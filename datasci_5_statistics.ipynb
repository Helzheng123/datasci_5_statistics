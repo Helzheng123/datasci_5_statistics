{
  "nbformat": 4,
  "nbformat_minor": 0,
  "metadata": {
    "colab": {
      "provenance": [],
      "authorship_tag": "ABX9TyP+AVYXPwQPExGvd79SG3bk",
      "include_colab_link": true
    },
    "kernelspec": {
      "name": "python3",
      "display_name": "Python 3"
    },
    "language_info": {
      "name": "python"
    }
  },
  "cells": [
    {
      "cell_type": "markdown",
      "metadata": {
        "id": "view-in-github",
        "colab_type": "text"
      },
      "source": [
        "<a href=\"https://colab.research.google.com/github/Helzheng123/datasci_5_statistics/blob/main/datasci_5_statistics.ipynb\" target=\"_parent\"><img src=\"https://colab.research.google.com/assets/colab-badge.svg\" alt=\"Open In Colab\"/></a>"
      ]
    },
    {
      "cell_type": "code",
      "execution_count": 1,
      "metadata": {
        "id": "A6HZxbEJlYKk"
      },
      "outputs": [],
      "source": [
        "import pandas as pd\n",
        "import re\n",
        "from scipy.stats import chi2_contingency"
      ]
    },
    {
      "cell_type": "markdown",
      "source": [
        "**Chi-Square Test**"
      ],
      "metadata": {
        "id": "vElyNePY1Jcp"
      }
    },
    {
      "cell_type": "markdown",
      "source": [
        "Gender vs Sleep Disorder"
      ],
      "metadata": {
        "id": "vYZhMvHPKDIt"
      }
    },
    {
      "cell_type": "code",
      "source": [
        "# Read Data\n",
        "df0 = pd.read_csv('Sleep_health_and_lifestyle_dataset.csv')\n",
        "df0"
      ],
      "metadata": {
        "colab": {
          "base_uri": "https://localhost:8080/",
          "height": 597
        },
        "id": "e1CFb7VO5RpE",
        "outputId": "4c1cf7d3-83c4-4cad-ef44-297b3a05ba78"
      },
      "execution_count": 2,
      "outputs": [
        {
          "output_type": "execute_result",
          "data": {
            "text/plain": [
              "     Person ID  Gender  Age            Occupation  Sleep Duration  \\\n",
              "0            1    Male   27     Software Engineer             6.1   \n",
              "1            2    Male   28                Doctor             6.2   \n",
              "2            3    Male   28                Doctor             6.2   \n",
              "3            4    Male   28  Sales Representative             5.9   \n",
              "4            5    Male   28  Sales Representative             5.9   \n",
              "..         ...     ...  ...                   ...             ...   \n",
              "369        370  Female   59                 Nurse             8.1   \n",
              "370        371  Female   59                 Nurse             8.0   \n",
              "371        372  Female   59                 Nurse             8.1   \n",
              "372        373  Female   59                 Nurse             8.1   \n",
              "373        374  Female   59                 Nurse             8.1   \n",
              "\n",
              "     Quality of Sleep  Physical Activity Level  Stress Level BMI Category  \\\n",
              "0                   6                       42             6   Overweight   \n",
              "1                   6                       60             8       Normal   \n",
              "2                   6                       60             8       Normal   \n",
              "3                   4                       30             8        Obese   \n",
              "4                   4                       30             8        Obese   \n",
              "..                ...                      ...           ...          ...   \n",
              "369                 9                       75             3   Overweight   \n",
              "370                 9                       75             3   Overweight   \n",
              "371                 9                       75             3   Overweight   \n",
              "372                 9                       75             3   Overweight   \n",
              "373                 9                       75             3   Overweight   \n",
              "\n",
              "    Blood Pressure  Heart Rate  Daily Steps Sleep Disorder  \n",
              "0           126/83          77         4200           None  \n",
              "1           125/80          75        10000           None  \n",
              "2           125/80          75        10000           None  \n",
              "3           140/90          85         3000    Sleep Apnea  \n",
              "4           140/90          85         3000    Sleep Apnea  \n",
              "..             ...         ...          ...            ...  \n",
              "369         140/95          68         7000    Sleep Apnea  \n",
              "370         140/95          68         7000    Sleep Apnea  \n",
              "371         140/95          68         7000    Sleep Apnea  \n",
              "372         140/95          68         7000    Sleep Apnea  \n",
              "373         140/95          68         7000    Sleep Apnea  \n",
              "\n",
              "[374 rows x 13 columns]"
            ],
            "text/html": [
              "\n",
              "  <div id=\"df-0dd2a692-1383-4e22-9e60-8c28072c8d92\" class=\"colab-df-container\">\n",
              "    <div>\n",
              "<style scoped>\n",
              "    .dataframe tbody tr th:only-of-type {\n",
              "        vertical-align: middle;\n",
              "    }\n",
              "\n",
              "    .dataframe tbody tr th {\n",
              "        vertical-align: top;\n",
              "    }\n",
              "\n",
              "    .dataframe thead th {\n",
              "        text-align: right;\n",
              "    }\n",
              "</style>\n",
              "<table border=\"1\" class=\"dataframe\">\n",
              "  <thead>\n",
              "    <tr style=\"text-align: right;\">\n",
              "      <th></th>\n",
              "      <th>Person ID</th>\n",
              "      <th>Gender</th>\n",
              "      <th>Age</th>\n",
              "      <th>Occupation</th>\n",
              "      <th>Sleep Duration</th>\n",
              "      <th>Quality of Sleep</th>\n",
              "      <th>Physical Activity Level</th>\n",
              "      <th>Stress Level</th>\n",
              "      <th>BMI Category</th>\n",
              "      <th>Blood Pressure</th>\n",
              "      <th>Heart Rate</th>\n",
              "      <th>Daily Steps</th>\n",
              "      <th>Sleep Disorder</th>\n",
              "    </tr>\n",
              "  </thead>\n",
              "  <tbody>\n",
              "    <tr>\n",
              "      <th>0</th>\n",
              "      <td>1</td>\n",
              "      <td>Male</td>\n",
              "      <td>27</td>\n",
              "      <td>Software Engineer</td>\n",
              "      <td>6.1</td>\n",
              "      <td>6</td>\n",
              "      <td>42</td>\n",
              "      <td>6</td>\n",
              "      <td>Overweight</td>\n",
              "      <td>126/83</td>\n",
              "      <td>77</td>\n",
              "      <td>4200</td>\n",
              "      <td>None</td>\n",
              "    </tr>\n",
              "    <tr>\n",
              "      <th>1</th>\n",
              "      <td>2</td>\n",
              "      <td>Male</td>\n",
              "      <td>28</td>\n",
              "      <td>Doctor</td>\n",
              "      <td>6.2</td>\n",
              "      <td>6</td>\n",
              "      <td>60</td>\n",
              "      <td>8</td>\n",
              "      <td>Normal</td>\n",
              "      <td>125/80</td>\n",
              "      <td>75</td>\n",
              "      <td>10000</td>\n",
              "      <td>None</td>\n",
              "    </tr>\n",
              "    <tr>\n",
              "      <th>2</th>\n",
              "      <td>3</td>\n",
              "      <td>Male</td>\n",
              "      <td>28</td>\n",
              "      <td>Doctor</td>\n",
              "      <td>6.2</td>\n",
              "      <td>6</td>\n",
              "      <td>60</td>\n",
              "      <td>8</td>\n",
              "      <td>Normal</td>\n",
              "      <td>125/80</td>\n",
              "      <td>75</td>\n",
              "      <td>10000</td>\n",
              "      <td>None</td>\n",
              "    </tr>\n",
              "    <tr>\n",
              "      <th>3</th>\n",
              "      <td>4</td>\n",
              "      <td>Male</td>\n",
              "      <td>28</td>\n",
              "      <td>Sales Representative</td>\n",
              "      <td>5.9</td>\n",
              "      <td>4</td>\n",
              "      <td>30</td>\n",
              "      <td>8</td>\n",
              "      <td>Obese</td>\n",
              "      <td>140/90</td>\n",
              "      <td>85</td>\n",
              "      <td>3000</td>\n",
              "      <td>Sleep Apnea</td>\n",
              "    </tr>\n",
              "    <tr>\n",
              "      <th>4</th>\n",
              "      <td>5</td>\n",
              "      <td>Male</td>\n",
              "      <td>28</td>\n",
              "      <td>Sales Representative</td>\n",
              "      <td>5.9</td>\n",
              "      <td>4</td>\n",
              "      <td>30</td>\n",
              "      <td>8</td>\n",
              "      <td>Obese</td>\n",
              "      <td>140/90</td>\n",
              "      <td>85</td>\n",
              "      <td>3000</td>\n",
              "      <td>Sleep Apnea</td>\n",
              "    </tr>\n",
              "    <tr>\n",
              "      <th>...</th>\n",
              "      <td>...</td>\n",
              "      <td>...</td>\n",
              "      <td>...</td>\n",
              "      <td>...</td>\n",
              "      <td>...</td>\n",
              "      <td>...</td>\n",
              "      <td>...</td>\n",
              "      <td>...</td>\n",
              "      <td>...</td>\n",
              "      <td>...</td>\n",
              "      <td>...</td>\n",
              "      <td>...</td>\n",
              "      <td>...</td>\n",
              "    </tr>\n",
              "    <tr>\n",
              "      <th>369</th>\n",
              "      <td>370</td>\n",
              "      <td>Female</td>\n",
              "      <td>59</td>\n",
              "      <td>Nurse</td>\n",
              "      <td>8.1</td>\n",
              "      <td>9</td>\n",
              "      <td>75</td>\n",
              "      <td>3</td>\n",
              "      <td>Overweight</td>\n",
              "      <td>140/95</td>\n",
              "      <td>68</td>\n",
              "      <td>7000</td>\n",
              "      <td>Sleep Apnea</td>\n",
              "    </tr>\n",
              "    <tr>\n",
              "      <th>370</th>\n",
              "      <td>371</td>\n",
              "      <td>Female</td>\n",
              "      <td>59</td>\n",
              "      <td>Nurse</td>\n",
              "      <td>8.0</td>\n",
              "      <td>9</td>\n",
              "      <td>75</td>\n",
              "      <td>3</td>\n",
              "      <td>Overweight</td>\n",
              "      <td>140/95</td>\n",
              "      <td>68</td>\n",
              "      <td>7000</td>\n",
              "      <td>Sleep Apnea</td>\n",
              "    </tr>\n",
              "    <tr>\n",
              "      <th>371</th>\n",
              "      <td>372</td>\n",
              "      <td>Female</td>\n",
              "      <td>59</td>\n",
              "      <td>Nurse</td>\n",
              "      <td>8.1</td>\n",
              "      <td>9</td>\n",
              "      <td>75</td>\n",
              "      <td>3</td>\n",
              "      <td>Overweight</td>\n",
              "      <td>140/95</td>\n",
              "      <td>68</td>\n",
              "      <td>7000</td>\n",
              "      <td>Sleep Apnea</td>\n",
              "    </tr>\n",
              "    <tr>\n",
              "      <th>372</th>\n",
              "      <td>373</td>\n",
              "      <td>Female</td>\n",
              "      <td>59</td>\n",
              "      <td>Nurse</td>\n",
              "      <td>8.1</td>\n",
              "      <td>9</td>\n",
              "      <td>75</td>\n",
              "      <td>3</td>\n",
              "      <td>Overweight</td>\n",
              "      <td>140/95</td>\n",
              "      <td>68</td>\n",
              "      <td>7000</td>\n",
              "      <td>Sleep Apnea</td>\n",
              "    </tr>\n",
              "    <tr>\n",
              "      <th>373</th>\n",
              "      <td>374</td>\n",
              "      <td>Female</td>\n",
              "      <td>59</td>\n",
              "      <td>Nurse</td>\n",
              "      <td>8.1</td>\n",
              "      <td>9</td>\n",
              "      <td>75</td>\n",
              "      <td>3</td>\n",
              "      <td>Overweight</td>\n",
              "      <td>140/95</td>\n",
              "      <td>68</td>\n",
              "      <td>7000</td>\n",
              "      <td>Sleep Apnea</td>\n",
              "    </tr>\n",
              "  </tbody>\n",
              "</table>\n",
              "<p>374 rows × 13 columns</p>\n",
              "</div>\n",
              "    <div class=\"colab-df-buttons\">\n",
              "\n",
              "  <div class=\"colab-df-container\">\n",
              "    <button class=\"colab-df-convert\" onclick=\"convertToInteractive('df-0dd2a692-1383-4e22-9e60-8c28072c8d92')\"\n",
              "            title=\"Convert this dataframe to an interactive table.\"\n",
              "            style=\"display:none;\">\n",
              "\n",
              "  <svg xmlns=\"http://www.w3.org/2000/svg\" height=\"24px\" viewBox=\"0 -960 960 960\">\n",
              "    <path d=\"M120-120v-720h720v720H120Zm60-500h600v-160H180v160Zm220 220h160v-160H400v160Zm0 220h160v-160H400v160ZM180-400h160v-160H180v160Zm440 0h160v-160H620v160ZM180-180h160v-160H180v160Zm440 0h160v-160H620v160Z\"/>\n",
              "  </svg>\n",
              "    </button>\n",
              "\n",
              "  <style>\n",
              "    .colab-df-container {\n",
              "      display:flex;\n",
              "      gap: 12px;\n",
              "    }\n",
              "\n",
              "    .colab-df-convert {\n",
              "      background-color: #E8F0FE;\n",
              "      border: none;\n",
              "      border-radius: 50%;\n",
              "      cursor: pointer;\n",
              "      display: none;\n",
              "      fill: #1967D2;\n",
              "      height: 32px;\n",
              "      padding: 0 0 0 0;\n",
              "      width: 32px;\n",
              "    }\n",
              "\n",
              "    .colab-df-convert:hover {\n",
              "      background-color: #E2EBFA;\n",
              "      box-shadow: 0px 1px 2px rgba(60, 64, 67, 0.3), 0px 1px 3px 1px rgba(60, 64, 67, 0.15);\n",
              "      fill: #174EA6;\n",
              "    }\n",
              "\n",
              "    .colab-df-buttons div {\n",
              "      margin-bottom: 4px;\n",
              "    }\n",
              "\n",
              "    [theme=dark] .colab-df-convert {\n",
              "      background-color: #3B4455;\n",
              "      fill: #D2E3FC;\n",
              "    }\n",
              "\n",
              "    [theme=dark] .colab-df-convert:hover {\n",
              "      background-color: #434B5C;\n",
              "      box-shadow: 0px 1px 3px 1px rgba(0, 0, 0, 0.15);\n",
              "      filter: drop-shadow(0px 1px 2px rgba(0, 0, 0, 0.3));\n",
              "      fill: #FFFFFF;\n",
              "    }\n",
              "  </style>\n",
              "\n",
              "    <script>\n",
              "      const buttonEl =\n",
              "        document.querySelector('#df-0dd2a692-1383-4e22-9e60-8c28072c8d92 button.colab-df-convert');\n",
              "      buttonEl.style.display =\n",
              "        google.colab.kernel.accessAllowed ? 'block' : 'none';\n",
              "\n",
              "      async function convertToInteractive(key) {\n",
              "        const element = document.querySelector('#df-0dd2a692-1383-4e22-9e60-8c28072c8d92');\n",
              "        const dataTable =\n",
              "          await google.colab.kernel.invokeFunction('convertToInteractive',\n",
              "                                                    [key], {});\n",
              "        if (!dataTable) return;\n",
              "\n",
              "        const docLinkHtml = 'Like what you see? Visit the ' +\n",
              "          '<a target=\"_blank\" href=https://colab.research.google.com/notebooks/data_table.ipynb>data table notebook</a>'\n",
              "          + ' to learn more about interactive tables.';\n",
              "        element.innerHTML = '';\n",
              "        dataTable['output_type'] = 'display_data';\n",
              "        await google.colab.output.renderOutput(dataTable, element);\n",
              "        const docLink = document.createElement('div');\n",
              "        docLink.innerHTML = docLinkHtml;\n",
              "        element.appendChild(docLink);\n",
              "      }\n",
              "    </script>\n",
              "  </div>\n",
              "\n",
              "\n",
              "<div id=\"df-312060e5-b85d-4ef3-8670-7f37d6f1af54\">\n",
              "  <button class=\"colab-df-quickchart\" onclick=\"quickchart('df-312060e5-b85d-4ef3-8670-7f37d6f1af54')\"\n",
              "            title=\"Suggest charts.\"\n",
              "            style=\"display:none;\">\n",
              "\n",
              "<svg xmlns=\"http://www.w3.org/2000/svg\" height=\"24px\"viewBox=\"0 0 24 24\"\n",
              "     width=\"24px\">\n",
              "    <g>\n",
              "        <path d=\"M19 3H5c-1.1 0-2 .9-2 2v14c0 1.1.9 2 2 2h14c1.1 0 2-.9 2-2V5c0-1.1-.9-2-2-2zM9 17H7v-7h2v7zm4 0h-2V7h2v10zm4 0h-2v-4h2v4z\"/>\n",
              "    </g>\n",
              "</svg>\n",
              "  </button>\n",
              "\n",
              "<style>\n",
              "  .colab-df-quickchart {\n",
              "      --bg-color: #E8F0FE;\n",
              "      --fill-color: #1967D2;\n",
              "      --hover-bg-color: #E2EBFA;\n",
              "      --hover-fill-color: #174EA6;\n",
              "      --disabled-fill-color: #AAA;\n",
              "      --disabled-bg-color: #DDD;\n",
              "  }\n",
              "\n",
              "  [theme=dark] .colab-df-quickchart {\n",
              "      --bg-color: #3B4455;\n",
              "      --fill-color: #D2E3FC;\n",
              "      --hover-bg-color: #434B5C;\n",
              "      --hover-fill-color: #FFFFFF;\n",
              "      --disabled-bg-color: #3B4455;\n",
              "      --disabled-fill-color: #666;\n",
              "  }\n",
              "\n",
              "  .colab-df-quickchart {\n",
              "    background-color: var(--bg-color);\n",
              "    border: none;\n",
              "    border-radius: 50%;\n",
              "    cursor: pointer;\n",
              "    display: none;\n",
              "    fill: var(--fill-color);\n",
              "    height: 32px;\n",
              "    padding: 0;\n",
              "    width: 32px;\n",
              "  }\n",
              "\n",
              "  .colab-df-quickchart:hover {\n",
              "    background-color: var(--hover-bg-color);\n",
              "    box-shadow: 0 1px 2px rgba(60, 64, 67, 0.3), 0 1px 3px 1px rgba(60, 64, 67, 0.15);\n",
              "    fill: var(--button-hover-fill-color);\n",
              "  }\n",
              "\n",
              "  .colab-df-quickchart-complete:disabled,\n",
              "  .colab-df-quickchart-complete:disabled:hover {\n",
              "    background-color: var(--disabled-bg-color);\n",
              "    fill: var(--disabled-fill-color);\n",
              "    box-shadow: none;\n",
              "  }\n",
              "\n",
              "  .colab-df-spinner {\n",
              "    border: 2px solid var(--fill-color);\n",
              "    border-color: transparent;\n",
              "    border-bottom-color: var(--fill-color);\n",
              "    animation:\n",
              "      spin 1s steps(1) infinite;\n",
              "  }\n",
              "\n",
              "  @keyframes spin {\n",
              "    0% {\n",
              "      border-color: transparent;\n",
              "      border-bottom-color: var(--fill-color);\n",
              "      border-left-color: var(--fill-color);\n",
              "    }\n",
              "    20% {\n",
              "      border-color: transparent;\n",
              "      border-left-color: var(--fill-color);\n",
              "      border-top-color: var(--fill-color);\n",
              "    }\n",
              "    30% {\n",
              "      border-color: transparent;\n",
              "      border-left-color: var(--fill-color);\n",
              "      border-top-color: var(--fill-color);\n",
              "      border-right-color: var(--fill-color);\n",
              "    }\n",
              "    40% {\n",
              "      border-color: transparent;\n",
              "      border-right-color: var(--fill-color);\n",
              "      border-top-color: var(--fill-color);\n",
              "    }\n",
              "    60% {\n",
              "      border-color: transparent;\n",
              "      border-right-color: var(--fill-color);\n",
              "    }\n",
              "    80% {\n",
              "      border-color: transparent;\n",
              "      border-right-color: var(--fill-color);\n",
              "      border-bottom-color: var(--fill-color);\n",
              "    }\n",
              "    90% {\n",
              "      border-color: transparent;\n",
              "      border-bottom-color: var(--fill-color);\n",
              "    }\n",
              "  }\n",
              "</style>\n",
              "\n",
              "  <script>\n",
              "    async function quickchart(key) {\n",
              "      const quickchartButtonEl =\n",
              "        document.querySelector('#' + key + ' button');\n",
              "      quickchartButtonEl.disabled = true;  // To prevent multiple clicks.\n",
              "      quickchartButtonEl.classList.add('colab-df-spinner');\n",
              "      try {\n",
              "        const charts = await google.colab.kernel.invokeFunction(\n",
              "            'suggestCharts', [key], {});\n",
              "      } catch (error) {\n",
              "        console.error('Error during call to suggestCharts:', error);\n",
              "      }\n",
              "      quickchartButtonEl.classList.remove('colab-df-spinner');\n",
              "      quickchartButtonEl.classList.add('colab-df-quickchart-complete');\n",
              "    }\n",
              "    (() => {\n",
              "      let quickchartButtonEl =\n",
              "        document.querySelector('#df-312060e5-b85d-4ef3-8670-7f37d6f1af54 button');\n",
              "      quickchartButtonEl.style.display =\n",
              "        google.colab.kernel.accessAllowed ? 'block' : 'none';\n",
              "    })();\n",
              "  </script>\n",
              "</div>\n",
              "    </div>\n",
              "  </div>\n"
            ]
          },
          "metadata": {},
          "execution_count": 2
        }
      ]
    },
    {
      "cell_type": "code",
      "source": [
        "# Count how many for each in Gender\n",
        "df0['Gender'].value_counts()"
      ],
      "metadata": {
        "colab": {
          "base_uri": "https://localhost:8080/"
        },
        "id": "mx8ceAGp6GhR",
        "outputId": "4532eadd-19a9-4732-ca62-00364159e965"
      },
      "execution_count": 3,
      "outputs": [
        {
          "output_type": "execute_result",
          "data": {
            "text/plain": [
              "Male      189\n",
              "Female    185\n",
              "Name: Gender, dtype: int64"
            ]
          },
          "metadata": {},
          "execution_count": 3
        }
      ]
    },
    {
      "cell_type": "code",
      "source": [
        "# Count how many for each in Sleep Disorder\n",
        "df0['Sleep Disorder'].value_counts()"
      ],
      "metadata": {
        "colab": {
          "base_uri": "https://localhost:8080/"
        },
        "id": "UKw6RBlC6rSR",
        "outputId": "1df1e829-27db-4fc1-84a9-91cd5f1e63b2"
      },
      "execution_count": 4,
      "outputs": [
        {
          "output_type": "execute_result",
          "data": {
            "text/plain": [
              "None           219\n",
              "Sleep Apnea     78\n",
              "Insomnia        77\n",
              "Name: Sleep Disorder, dtype: int64"
            ]
          },
          "metadata": {},
          "execution_count": 4
        }
      ]
    },
    {
      "cell_type": "code",
      "source": [
        "contingency_table = pd.crosstab(df0['Gender'], df0['Sleep Disorder'])\n",
        "print(contingency_table)"
      ],
      "metadata": {
        "colab": {
          "base_uri": "https://localhost:8080/"
        },
        "id": "OOu1YfBE6v1Z",
        "outputId": "e721c877-bcaa-4d46-f740-bc3bca00f9df"
      },
      "execution_count": 5,
      "outputs": [
        {
          "output_type": "stream",
          "name": "stdout",
          "text": [
            "Sleep Disorder  Insomnia  None  Sleep Apnea\n",
            "Gender                                     \n",
            "Female                36    82           67\n",
            "Male                  41   137           11\n"
          ]
        }
      ]
    },
    {
      "cell_type": "code",
      "source": [
        "chi2, p, dof, expected = chi2_contingency(contingency_table)\n",
        "print(f\"Chi2 value: {chi2}\")\n",
        "print(f\"P-value: {p}\")\n",
        "print(f\"Degrees of Freedom: {dof}\")\n",
        "print(f\"Expected Counts: {expected}\")"
      ],
      "metadata": {
        "colab": {
          "base_uri": "https://localhost:8080/"
        },
        "id": "yNcX4Q-27C0J",
        "outputId": "7e44286b-978b-41b1-e7dd-d47e15228c19"
      },
      "execution_count": 6,
      "outputs": [
        {
          "output_type": "stream",
          "name": "stdout",
          "text": [
            "Chi2 value: 54.30602007353474\n",
            "P-value: 1.6128633524576768e-12\n",
            "Degrees of Freedom: 2\n",
            "Expected Counts: [[ 38.08823529 108.32887701  38.5828877 ]\n",
            " [ 38.91176471 110.67112299  39.4171123 ]]\n"
          ]
        }
      ]
    },
    {
      "cell_type": "markdown",
      "source": [
        "**T-Test**"
      ],
      "metadata": {
        "id": "2QbfYjwU9AdC"
      }
    },
    {
      "cell_type": "markdown",
      "source": [
        "Gender (Male vs Female) vs Physical Activity Level"
      ],
      "metadata": {
        "id": "FQALzDlJKKEd"
      }
    },
    {
      "cell_type": "code",
      "source": [
        "from scipy.stats import ttest_ind"
      ],
      "metadata": {
        "id": "Tj-_0bI89FyR"
      },
      "execution_count": 7,
      "outputs": []
    },
    {
      "cell_type": "code",
      "source": [
        "# Read data\n",
        "\n",
        "df1 = pd.read_csv('Sleep_health_and_lifestyle_dataset.csv')\n",
        "len(df1)"
      ],
      "metadata": {
        "colab": {
          "base_uri": "https://localhost:8080/"
        },
        "id": "yBqmwiee9W7q",
        "outputId": "c7403a1f-457b-4ce0-aecb-67473dff4d1b"
      },
      "execution_count": 8,
      "outputs": [
        {
          "output_type": "execute_result",
          "data": {
            "text/plain": [
              "374"
            ]
          },
          "metadata": {},
          "execution_count": 8
        }
      ]
    },
    {
      "cell_type": "code",
      "source": [
        "# Drop any incomplete rows\n",
        "df = df1.dropna()\n",
        "len(df)"
      ],
      "metadata": {
        "colab": {
          "base_uri": "https://localhost:8080/"
        },
        "id": "Cr2_xUCqALub",
        "outputId": "6f1b5966-b910-451a-88d3-6f518ab0ccab"
      },
      "execution_count": 9,
      "outputs": [
        {
          "output_type": "execute_result",
          "data": {
            "text/plain": [
              "374"
            ]
          },
          "metadata": {},
          "execution_count": 9
        }
      ]
    },
    {
      "cell_type": "code",
      "source": [
        "# Separate the Gender into Male and Female\n",
        "\n",
        "male_data = df1[df1['Gender'] == 'Male']['Physical Activity Level']\n",
        "female_data = df1[df1['Gender'] == 'Female']['Physical Activity Level']\n",
        "\n",
        "print(male_data)\n",
        "print(female_data)"
      ],
      "metadata": {
        "colab": {
          "base_uri": "https://localhost:8080/"
        },
        "id": "t1sjVdU2EJ90",
        "outputId": "14411637-5649-45d3-f85e-0ac1708b477c"
      },
      "execution_count": 10,
      "outputs": [
        {
          "output_type": "stream",
          "name": "stdout",
          "text": [
            "0      42\n",
            "1      60\n",
            "2      60\n",
            "3      30\n",
            "4      30\n",
            "       ..\n",
            "249    45\n",
            "264    65\n",
            "266    65\n",
            "276    85\n",
            "277    85\n",
            "Name: Physical Activity Level, Length: 189, dtype: int64\n",
            "16     40\n",
            "18     40\n",
            "30     35\n",
            "31     35\n",
            "32     75\n",
            "       ..\n",
            "369    75\n",
            "370    75\n",
            "371    75\n",
            "372    75\n",
            "373    75\n",
            "Name: Physical Activity Level, Length: 185, dtype: int64\n"
          ]
        }
      ]
    },
    {
      "cell_type": "code",
      "source": [
        "t_stat, p_val = ttest_ind(male_data, female_data, equal_var=False)"
      ],
      "metadata": {
        "id": "WhL0NLkGFpEH"
      },
      "execution_count": 11,
      "outputs": []
    },
    {
      "cell_type": "code",
      "source": [
        "print(f\"T-statistic: {t_stat}\")\n",
        "print(f\"P-value: {p_val}\")"
      ],
      "metadata": {
        "colab": {
          "base_uri": "https://localhost:8080/"
        },
        "id": "S3dxYbLgGn1j",
        "outputId": "ef031cd6-0048-435b-8caa-20d7f0776ada"
      },
      "execution_count": 12,
      "outputs": [
        {
          "output_type": "stream",
          "name": "stdout",
          "text": [
            "T-statistic: 0.028048144471380786\n",
            "P-value: 0.9776388132184118\n"
          ]
        }
      ]
    },
    {
      "cell_type": "code",
      "source": [
        "male_mean = male_data.mean()\n",
        "female_mean = female_data.mean()\n",
        "\n",
        "print(f\"Mean prevalence for Males: {male_mean}\")\n",
        "print(f\"Mean prevalence for Females: {female_mean}\")"
      ],
      "metadata": {
        "colab": {
          "base_uri": "https://localhost:8080/"
        },
        "id": "mUHueFIvGrA6",
        "outputId": "2eb44591-90b5-48b8-c5a3-ade9b890fe19"
      },
      "execution_count": 13,
      "outputs": [
        {
          "output_type": "stream",
          "name": "stdout",
          "text": [
            "Mean prevalence for Males: 59.2010582010582\n",
            "Mean prevalence for Females: 59.14054054054054\n"
          ]
        }
      ]
    },
    {
      "cell_type": "markdown",
      "source": [
        "**One Way ANOVA Test**"
      ],
      "metadata": {
        "id": "KyzJHYJwIUQx"
      }
    },
    {
      "cell_type": "markdown",
      "source": [
        "BMI Category (Normal, Overweight, Obese) vs Daily Steps"
      ],
      "metadata": {
        "id": "7SnPbPTIKWjs"
      }
    },
    {
      "cell_type": "code",
      "source": [
        "import numpy as np\n",
        "import scipy.stats as stats\n",
        "import statsmodels.api as sm\n",
        "from statsmodels.formula.api import ols\n",
        "from statsmodels.stats.anova import anova_lm"
      ],
      "metadata": {
        "id": "9PE6BgxHIZnD"
      },
      "execution_count": 14,
      "outputs": []
    },
    {
      "cell_type": "code",
      "source": [
        "model = ols('Daily Steps ~ C(BMI Category)', data=df1).fit()"
      ],
      "metadata": {
        "colab": {
          "base_uri": "https://localhost:8080/",
          "height": 885
        },
        "id": "jrNaNQB8c7yj",
        "outputId": "59aceb5f-459b-4e8d-86b7-1e4a8b787a32"
      },
      "execution_count": 19,
      "outputs": [
        {
          "output_type": "error",
          "ename": "SyntaxError",
          "evalue": "ignored",
          "traceback": [
            "Traceback \u001b[0;36m(most recent call last)\u001b[0m:\n",
            "  File \u001b[1;32m\"/usr/local/lib/python3.10/dist-packages/IPython/core/interactiveshell.py\"\u001b[0m, line \u001b[1;32m3553\u001b[0m, in \u001b[1;35mrun_code\u001b[0m\n    exec(code_obj, self.user_global_ns, self.user_ns)\n",
            "  File \u001b[1;32m\"<ipython-input-19-e3c42c07178a>\"\u001b[0m, line \u001b[1;32m1\u001b[0m, in \u001b[1;35m<cell line: 1>\u001b[0m\n    model = ols('Daily Steps ~ C(BMI Category)', data=df1).fit()\n",
            "  File \u001b[1;32m\"/usr/local/lib/python3.10/dist-packages/statsmodels/base/model.py\"\u001b[0m, line \u001b[1;32m203\u001b[0m, in \u001b[1;35mfrom_formula\u001b[0m\n    tmp = handle_formula_data(data, None, formula, depth=eval_env,\n",
            "  File \u001b[1;32m\"/usr/local/lib/python3.10/dist-packages/statsmodels/formula/formulatools.py\"\u001b[0m, line \u001b[1;32m63\u001b[0m, in \u001b[1;35mhandle_formula_data\u001b[0m\n    result = dmatrices(formula, Y, depth, return_type='dataframe',\n",
            "  File \u001b[1;32m\"/usr/local/lib/python3.10/dist-packages/patsy/highlevel.py\"\u001b[0m, line \u001b[1;32m309\u001b[0m, in \u001b[1;35mdmatrices\u001b[0m\n    (lhs, rhs) = _do_highlevel_design(formula_like, data, eval_env,\n",
            "  File \u001b[1;32m\"/usr/local/lib/python3.10/dist-packages/patsy/highlevel.py\"\u001b[0m, line \u001b[1;32m164\u001b[0m, in \u001b[1;35m_do_highlevel_design\u001b[0m\n    design_infos = _try_incr_builders(formula_like, data_iter_maker, eval_env,\n",
            "  File \u001b[1;32m\"/usr/local/lib/python3.10/dist-packages/patsy/highlevel.py\"\u001b[0m, line \u001b[1;32m66\u001b[0m, in \u001b[1;35m_try_incr_builders\u001b[0m\n    return design_matrix_builders([formula_like.lhs_termlist,\n",
            "  File \u001b[1;32m\"/usr/local/lib/python3.10/dist-packages/patsy/build.py\"\u001b[0m, line \u001b[1;32m689\u001b[0m, in \u001b[1;35mdesign_matrix_builders\u001b[0m\n    factor_states = _factors_memorize(all_factors, data_iter_maker, eval_env)\n",
            "  File \u001b[1;32m\"/usr/local/lib/python3.10/dist-packages/patsy/build.py\"\u001b[0m, line \u001b[1;32m354\u001b[0m, in \u001b[1;35m_factors_memorize\u001b[0m\n    which_pass = factor.memorize_passes_needed(state, eval_env)\n",
            "  File \u001b[1;32m\"/usr/local/lib/python3.10/dist-packages/patsy/eval.py\"\u001b[0m, line \u001b[1;32m478\u001b[0m, in \u001b[1;35mmemorize_passes_needed\u001b[0m\n    subset_names = [name for name in ast_names(self.code)\n",
            "  File \u001b[1;32m\"/usr/local/lib/python3.10/dist-packages/patsy/eval.py\"\u001b[0m, line \u001b[1;32m478\u001b[0m, in \u001b[1;35m<listcomp>\u001b[0m\n    subset_names = [name for name in ast_names(self.code)\n",
            "  File \u001b[1;32m\"/usr/local/lib/python3.10/dist-packages/patsy/eval.py\"\u001b[0m, line \u001b[1;32m109\u001b[0m, in \u001b[1;35mast_names\u001b[0m\n    for node in ast.walk(ast.parse(code)):\n",
            "\u001b[0;36m  File \u001b[0;32m\"/usr/lib/python3.10/ast.py\"\u001b[0;36m, line \u001b[0;32m50\u001b[0;36m, in \u001b[0;35mparse\u001b[0;36m\u001b[0m\n\u001b[0;31m    return compile(source, filename, mode, flags,\u001b[0m\n",
            "\u001b[0;36m  File \u001b[0;32m\"<unknown>\"\u001b[0;36m, line \u001b[0;32m1\u001b[0m\n\u001b[0;31m    C(BMI Category)\u001b[0m\n\u001b[0m      ^\u001b[0m\n\u001b[0;31mSyntaxError\u001b[0m\u001b[0;31m:\u001b[0m invalid syntax. Perhaps you forgot a comma?\n"
          ]
        }
      ]
    },
    {
      "cell_type": "code",
      "source": [
        "anova_table = sm.stats.anova_lm(model, typ=2)\n",
        "\n",
        "print(anova_table)\n",
        "\n",
        "## get means for each payer group of overall opioid\n",
        "df1.groupby('BMICategory')['DailySteps'].mean()"
      ],
      "metadata": {
        "colab": {
          "base_uri": "https://localhost:8080/",
          "height": 252
        },
        "id": "vRgkeOLsazAD",
        "outputId": "e87cc0fa-91cf-4cbb-8b33-95e8bf02ed1d"
      },
      "execution_count": 20,
      "outputs": [
        {
          "output_type": "error",
          "ename": "NameError",
          "evalue": "ignored",
          "traceback": [
            "\u001b[0;31m---------------------------------------------------------------------------\u001b[0m",
            "\u001b[0;31mNameError\u001b[0m                                 Traceback (most recent call last)",
            "\u001b[0;32m<ipython-input-20-2ab1bbf1a58c>\u001b[0m in \u001b[0;36m<cell line: 1>\u001b[0;34m()\u001b[0m\n\u001b[0;32m----> 1\u001b[0;31m \u001b[0manova_table\u001b[0m \u001b[0;34m=\u001b[0m \u001b[0msm\u001b[0m\u001b[0;34m.\u001b[0m\u001b[0mstats\u001b[0m\u001b[0;34m.\u001b[0m\u001b[0manova_lm\u001b[0m\u001b[0;34m(\u001b[0m\u001b[0mmodel\u001b[0m\u001b[0;34m,\u001b[0m \u001b[0mtyp\u001b[0m\u001b[0;34m=\u001b[0m\u001b[0;36m2\u001b[0m\u001b[0;34m)\u001b[0m\u001b[0;34m\u001b[0m\u001b[0;34m\u001b[0m\u001b[0m\n\u001b[0m\u001b[1;32m      2\u001b[0m \u001b[0;34m\u001b[0m\u001b[0m\n\u001b[1;32m      3\u001b[0m \u001b[0mprint\u001b[0m\u001b[0;34m(\u001b[0m\u001b[0manova_table\u001b[0m\u001b[0;34m)\u001b[0m\u001b[0;34m\u001b[0m\u001b[0;34m\u001b[0m\u001b[0m\n\u001b[1;32m      4\u001b[0m \u001b[0;34m\u001b[0m\u001b[0m\n\u001b[1;32m      5\u001b[0m \u001b[0;31m## get means for each payer group of overall opioid\u001b[0m\u001b[0;34m\u001b[0m\u001b[0;34m\u001b[0m\u001b[0m\n",
            "\u001b[0;31mNameError\u001b[0m: name 'model' is not defined"
          ]
        }
      ]
    },
    {
      "cell_type": "markdown",
      "source": [
        "**Regression**"
      ],
      "metadata": {
        "id": "bILX_Ic1ea9n"
      }
    },
    {
      "cell_type": "code",
      "source": [
        "import pandas as pd\n",
        "import statsmodels.api as sm\n",
        "import matplotlib.pyplot as plt"
      ],
      "metadata": {
        "id": "PyVSOJCKedXz"
      },
      "execution_count": 20,
      "outputs": []
    },
    {
      "cell_type": "code",
      "source": [
        "df2 = pd.read_csv('Sleep_health_and_lifestyle_dataset.csv')"
      ],
      "metadata": {
        "id": "2YLxW3kyekmW"
      },
      "execution_count": 21,
      "outputs": []
    },
    {
      "cell_type": "code",
      "source": [
        "df = df[(df['Quality of Sleep'] - df['Quality of Sleep'].mean()) / df['Quality of Sleep'].std() < 3]\n",
        "df = df[(df['Sleep Duration'] - df['Sleep Duration'].mean()) / df['Sleep Duration'].std() < 3]"
      ],
      "metadata": {
        "id": "lhLP8JECf4vv"
      },
      "execution_count": 27,
      "outputs": []
    },
    {
      "cell_type": "code",
      "source": [
        "X = df2['Quality of Sleep']\n",
        "y = df2['Sleep Duration']"
      ],
      "metadata": {
        "id": "GacS7HBCev7o"
      },
      "execution_count": 28,
      "outputs": []
    },
    {
      "cell_type": "code",
      "source": [
        "# Add a constant to the independent variable (required for the statsmodels regression model)\n",
        "X = sm.add_constant(X)"
      ],
      "metadata": {
        "id": "VghPsTNbfILQ"
      },
      "execution_count": 29,
      "outputs": []
    },
    {
      "cell_type": "code",
      "source": [
        "# Fit the regression model\n",
        "model2 = sm.OLS(y, X).fit()"
      ],
      "metadata": {
        "id": "9ExpJVuSfKCR"
      },
      "execution_count": 34,
      "outputs": []
    },
    {
      "cell_type": "code",
      "source": [
        "# Print the summary of the regression\n",
        "print(model2.summary())"
      ],
      "metadata": {
        "colab": {
          "base_uri": "https://localhost:8080/"
        },
        "id": "MoYZ0SHMfLZi",
        "outputId": "c93b7aeb-f6c1-4f3c-fabc-fc7f519f1570"
      },
      "execution_count": 35,
      "outputs": [
        {
          "output_type": "stream",
          "name": "stdout",
          "text": [
            "                            OLS Regression Results                            \n",
            "==============================================================================\n",
            "Dep. Variable:         Sleep Duration   R-squared:                       0.780\n",
            "Model:                            OLS   Adj. R-squared:                  0.779\n",
            "Method:                 Least Squares   F-statistic:                     1319.\n",
            "Date:                Sat, 14 Oct 2023   Prob (F-statistic):          2.17e-124\n",
            "Time:                        00:07:38   Log-Likelihood:                -161.49\n",
            "No. Observations:                 374   AIC:                             327.0\n",
            "Df Residuals:                     372   BIC:                             334.8\n",
            "Df Model:                           1                                         \n",
            "Covariance Type:            nonrobust                                         \n",
            "====================================================================================\n",
            "                       coef    std err          t      P>|t|      [0.025      0.975]\n",
            "------------------------------------------------------------------------------------\n",
            "const                2.8387      0.120     23.702      0.000       2.603       3.074\n",
            "Quality of Sleep     0.5871      0.016     36.324      0.000       0.555       0.619\n",
            "==============================================================================\n",
            "Omnibus:                       36.280   Durbin-Watson:                   0.826\n",
            "Prob(Omnibus):                  0.000   Jarque-Bera (JB):               44.616\n",
            "Skew:                           0.836   Prob(JB):                     2.05e-10\n",
            "Kurtosis:                       2.739   Cond. No.                         46.7\n",
            "==============================================================================\n",
            "\n",
            "Notes:\n",
            "[1] Standard Errors assume that the covariance matrix of the errors is correctly specified.\n"
          ]
        }
      ]
    },
    {
      "cell_type": "code",
      "source": [
        "plt.scatter(df2['Quality of Sleep'], df2['Sleep Duration'], label='Data Points')\n",
        "plt.plot(df1['Quality of Sleep'], model.predict(X), color='blue', label='Regression Line')\n",
        "plt.xlabel('Quality of Sleep')\n",
        "plt.ylabel('Sleep Duration')\n",
        "plt.title('Relationship between Quality of Sleep and Sleep Duration')\n",
        "plt.legend()\n",
        "plt.show()"
      ],
      "metadata": {
        "colab": {
          "base_uri": "https://localhost:8080/",
          "height": 472
        },
        "id": "6FVWX7olfPya",
        "outputId": "477155c7-7b4a-46e8-9046-10b9c0a04050"
      },
      "execution_count": 39,
      "outputs": [
        {
          "output_type": "display_data",
          "data": {
            "text/plain": [
              "<Figure size 640x480 with 1 Axes>"
            ],
            "image/png": "[encoded data removed]"
          },
          "metadata": {}
        }
      ]
    }
  ]
}